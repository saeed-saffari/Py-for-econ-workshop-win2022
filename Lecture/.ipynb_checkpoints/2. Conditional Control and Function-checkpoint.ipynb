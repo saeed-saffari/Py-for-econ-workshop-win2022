{
 "cells": [
  {
   "cell_type": "markdown",
   "metadata": {},
   "source": [
    "# <center> Loop, Conditional Control and Function"
   ]
  },
  {
   "cell_type": "markdown",
   "metadata": {},
   "source": [
    "<img src = \"https://github.com/saeed-saffari/alzahra-workshop-spr2021/blob/main/lecture/PIC/Loops-in-Python.png?raw=true\" width = 700 >"
   ]
  },
  {
   "cell_type": "markdown",
   "metadata": {},
   "source": [
    "# <center> Loop and Conditional Control \n",
    "## for"
   ]
  },
  {
   "cell_type": "code",
   "execution_count": 3,
   "metadata": {},
   "outputs": [
    {
     "name": "stdout",
     "output_type": "stream",
     "text": [
      "1\n",
      "5\n",
      "8\n",
      "12\n",
      "48\n"
     ]
    }
   ],
   "source": [
    "for num in [1,5,8,12,48]:\n",
    "    print(num)"
   ]
  },
  {
   "cell_type": "code",
   "execution_count": null,
   "metadata": {},
   "outputs": [],
   "source": [
    "for ... in ...:\n",
    "    ...\n",
    "    ...\n",
    "    ..."
   ]
  },
  {
   "cell_type": "code",
   "execution_count": 4,
   "metadata": {},
   "outputs": [
    {
     "name": "stdout",
     "output_type": "stream",
     "text": [
      "['Saeed', 'Yalda', 'Sajjad', 'Hadise', 'Javad']\n"
     ]
    }
   ],
   "source": [
    "users = ['Saeed', 'Yalda', 'Sajjad', 'Hadise', 'Javad']\n",
    "print(users)"
   ]
  },
  {
   "cell_type": "code",
   "execution_count": 5,
   "metadata": {},
   "outputs": [
    {
     "data": {
      "text/plain": [
       "'Yalda'"
      ]
     },
     "execution_count": 5,
     "metadata": {},
     "output_type": "execute_result"
    }
   ],
   "source": [
    "users[1]"
   ]
  },
  {
   "cell_type": "code",
   "execution_count": 9,
   "metadata": {},
   "outputs": [
    {
     "name": "stdout",
     "output_type": "stream",
     "text": [
      "Saeed\n",
      "Yalda\n",
      "Sajjad\n",
      "Hadise\n",
      "Javad\n"
     ]
    }
   ],
   "source": [
    "for user in users:\n",
    "    print(user)"
   ]
  },
  {
   "cell_type": "code",
   "execution_count": 12,
   "metadata": {},
   "outputs": [
    {
     "name": "stdout",
     "output_type": "stream",
     "text": [
      "Hi,\n",
      "Saeed\n",
      "Hi,\n",
      "Yalda\n",
      "Hi,\n",
      "Sajjad\n",
      "Hi,\n",
      "Hadise\n",
      "Hi,\n",
      "Javad\n",
      "bye\n"
     ]
    }
   ],
   "source": [
    "for user in users:\n",
    "    print(\"Hi,\")\n",
    "    print(user)\n",
    "print('bye')"
   ]
  },
  {
   "cell_type": "code",
   "execution_count": 15,
   "metadata": {},
   "outputs": [
    {
     "name": "stdout",
     "output_type": "stream",
     "text": [
      "Hi,\n",
      "Wlcome Saeed!\n",
      "Hi,\n",
      "Wlcome Yalda!\n",
      "Hi,\n",
      "Wlcome Sajjad!\n",
      "Hi,\n",
      "Wlcome Hadise!\n",
      "Hi,\n",
      "Wlcome Javad!\n",
      "we are glad to see you all\n"
     ]
    }
   ],
   "source": [
    "for user in users:\n",
    "    print(\"Hi,\")\n",
    "    print(\"Wlcome \" + user + '!')\n",
    "print('we are glad to see you all')"
   ]
  },
  {
   "cell_type": "code",
   "execution_count": 17,
   "metadata": {},
   "outputs": [
    {
     "name": "stdout",
     "output_type": "stream",
     "text": [
      "1\n",
      "25\n",
      "64\n",
      "144\n",
      "2304\n"
     ]
    }
   ],
   "source": [
    "for i in [1,5,8,12,48]:\n",
    "    print(i*i)"
   ]
  },
  {
   "cell_type": "code",
   "execution_count": 37,
   "metadata": {},
   "outputs": [
    {
     "name": "stdout",
     "output_type": "stream",
     "text": [
      "P\n",
      "Y\n",
      "T\n",
      "H\n",
      "O\n",
      "N\n",
      " \n",
      "C\n",
      "O\n",
      "U\n",
      "R\n",
      "S\n",
      "E\n"
     ]
    }
   ],
   "source": [
    "for letter in \"Python course\":\n",
    "    print(letter.upper())"
   ]
  },
  {
   "cell_type": "code",
   "execution_count": 23,
   "metadata": {},
   "outputs": [
    {
     "data": {
      "text/plain": [
       "[-10, -9, -8, -7, -6, -5, -4, -3, -2, -1, 0, 1, 2, 3, 4, 5, 6, 7, 8, 9]"
      ]
     },
     "execution_count": 23,
     "metadata": {},
     "output_type": "execute_result"
    }
   ],
   "source": [
    "list(range(-10,10))"
   ]
  },
  {
   "cell_type": "code",
   "execution_count": 24,
   "metadata": {},
   "outputs": [
    {
     "name": "stdout",
     "output_type": "stream",
     "text": [
      "3\n",
      "4\n",
      "5\n",
      "6\n",
      "7\n",
      "8\n",
      "9\n"
     ]
    }
   ],
   "source": [
    "for i in range(3,10):\n",
    "    print(i)"
   ]
  },
  {
   "cell_type": "code",
   "execution_count": 30,
   "metadata": {},
   "outputs": [
    {
     "name": "stdout",
     "output_type": "stream",
     "text": [
      "[1, 2, 3, 4, 5, 6, 7, 8, 9, 10, 11, 12, 13, 14, 15, 16, 17, 18, 19, 20, 21, 22, 23, 24]\n",
      "[1, 4, 9, 16, 25, 36, 49, 64, 81, 100, 121, 144, 169, 196, 225, 256, 289, 324, 361, 400, 441, 484, 529, 576]\n"
     ]
    }
   ],
   "source": [
    "squares = []\n",
    "#print(type(square))\n",
    "\n",
    "for i in range(1,25):\n",
    "    #print(i)\n",
    "    square = i ** 2\n",
    "    squares.append(square)\n",
    "    #squares.append(i**2)    # second solution\n",
    "    \n",
    "print(list(range(1,25)))    \n",
    "print(squares)"
   ]
  },
  {
   "cell_type": "code",
   "execution_count": 34,
   "metadata": {},
   "outputs": [
    {
     "name": "stdout",
     "output_type": "stream",
     "text": [
      "1\n",
      "3\n",
      "6\n",
      "10\n",
      "15\n",
      "21\n",
      "28\n",
      "36\n",
      "45\n",
      "55\n",
      "55\n"
     ]
    }
   ],
   "source": [
    "list_sum = 0\n",
    "for i in range(1,11):\n",
    "    #print(i)\n",
    "    list_sum = i + list_sum\n",
    "    print(list_sum)\n",
    "\n",
    "print(list_sum)"
   ]
  },
  {
   "cell_type": "code",
   "execution_count": null,
   "metadata": {},
   "outputs": [],
   "source": []
  },
  {
   "cell_type": "markdown",
   "metadata": {},
   "source": [
    "## while (pass, continue, break)"
   ]
  },
  {
   "cell_type": "markdown",
   "metadata": {},
   "source": [
    "<img src = \"https://github.com/saeed-saffari/alzahra-workshop-spr2021/blob/main/lecture/PIC/Looping.jpg?raw=true\">"
   ]
  },
  {
   "cell_type": "code",
   "execution_count": 25,
   "metadata": {},
   "outputs": [
    {
     "name": "stdout",
     "output_type": "stream",
     "text": [
      "0\n",
      "1\n",
      "2\n",
      "3\n",
      "4\n",
      "5\n",
      "6\n",
      "7\n",
      "8\n",
      "9\n"
     ]
    }
   ],
   "source": [
    "n = 0\n",
    "while n < 10:\n",
    "    print(n)\n",
    "    n = n + 1  # n += 1\n",
    "    #print(n)"
   ]
  },
  {
   "cell_type": "code",
   "execution_count": 23,
   "metadata": {},
   "outputs": [
    {
     "name": "stdout",
     "output_type": "stream",
     "text": [
      "1\n",
      "0.2\n",
      "0.04\n",
      "0.008\n",
      "0.0016\n",
      "0.00032\n"
     ]
    }
   ],
   "source": [
    "x = 1\n",
    "while x > 10 ** (-4):   # 1e-4\n",
    "    print(x)\n",
    "    x = x / 5\n",
    "    #x /= 5\n",
    "    #print(x)"
   ]
  },
  {
   "cell_type": "code",
   "execution_count": 15,
   "metadata": {},
   "outputs": [],
   "source": [
    "`"
   ]
  },
  {
   "cell_type": "markdown",
   "metadata": {},
   "source": [
    "## if, elif , else"
   ]
  },
  {
   "cell_type": "markdown",
   "metadata": {},
   "source": [
    "<img src = \"https://github.com/saeed-saffari/alzahra-workshop-spr2021/blob/main/lecture/PIC/if-else.jpg?raw=true\" width = \"750\">"
   ]
  },
  {
   "cell_type": "code",
   "execution_count": 31,
   "metadata": {},
   "outputs": [
    {
     "data": {
      "text/plain": [
       "False"
      ]
     },
     "execution_count": 31,
     "metadata": {},
     "output_type": "execute_result"
    }
   ],
   "source": [
    "3 < 2"
   ]
  },
  {
   "cell_type": "code",
   "execution_count": 30,
   "metadata": {},
   "outputs": [],
   "source": [
    "if 3 < 2:\n",
    "    print('That is TRUE!')"
   ]
  },
  {
   "cell_type": "code",
   "execution_count": 37,
   "metadata": {},
   "outputs": [
    {
     "name": "stdout",
     "output_type": "stream",
     "text": [
      "Enter your age: 8\n",
      "You can NOT vote yet!\n"
     ]
    }
   ],
   "source": [
    "age = int(input('Enter your age: '))\n",
    "\n",
    "if age >= 18:\n",
    "    print('You are old enough to vote!')\n",
    "else:\n",
    "    print('You can NOT vote yet!')"
   ]
  },
  {
   "cell_type": "code",
   "execution_count": 48,
   "metadata": {},
   "outputs": [
    {
     "name": "stdout",
     "output_type": "stream",
     "text": [
      "Enter your age: 54\n",
      "You are old enough to vote!\n"
     ]
    }
   ],
   "source": [
    "age = int(input('Enter your age: '))\n",
    "\n",
    "if age >= 18:\n",
    "    print('You are old enough to vote!')\n",
    "else:\n",
    "    print('You can NOT vote yet!')\n",
    "    print('You can will vote after ' + str(18 - age) + ' years.')\n",
    "    #print('You are now {} years old. you can will vote after {} years.'.format(age, 18-age))"
   ]
  },
  {
   "cell_type": "code",
   "execution_count": 3,
   "metadata": {},
   "outputs": [
    {
     "name": "stdout",
     "output_type": "stream",
     "text": [
      "Enter your age: 18\n",
      "Your cost is $10.\n"
     ]
    }
   ],
   "source": [
    "age = int(input('Enter your age: '))\n",
    "\n",
    "if age < 4:\n",
    "    price = 0\n",
    "elif age < 16:\n",
    "    price = 5\n",
    "else:\n",
    "    price = 10\n",
    "#elif age >= 16:\n",
    "#    price = 10\n",
    "\n",
    "print(\"Your cost is ${}.\".format(price))"
   ]
  },
  {
   "cell_type": "code",
   "execution_count": 4,
   "metadata": {},
   "outputs": [
    {
     "name": "stdout",
     "output_type": "stream",
     "text": [
      "Try more!\n"
     ]
    }
   ],
   "source": [
    "grade = 'B'\n",
    "\n",
    "if grade == 'A':\n",
    "    print('Well done.')\n",
    "elif grade == 'B':\n",
    "    print('Try more!')\n",
    "#else:\n",
    "elif grade == 'C':\n",
    "    print('Fail')"
   ]
  },
  {
   "cell_type": "code",
   "execution_count": 9,
   "metadata": {},
   "outputs": [
    {
     "name": "stdout",
     "output_type": "stream",
     "text": [
      "1 is ODD number\n",
      "2 is even number!\n",
      "4 is even number!\n",
      "8 is even number!\n",
      "7 is ODD number\n",
      "135 is ODD number\n",
      "124 is even number!\n",
      "137 is ODD number\n",
      "456 is even number!\n"
     ]
    }
   ],
   "source": [
    "my_list = [1,2,4,8,7,135,124,137,456]\n",
    "\n",
    "for num in my_list:\n",
    "    if num % 2 == 0:\n",
    "        print(num, 'is even number!')\n",
    "    else:\n",
    "    #elif num % 2 != 0:\n",
    "        print(num, 'is ODD number')"
   ]
  },
  {
   "cell_type": "code",
   "execution_count": null,
   "metadata": {},
   "outputs": [],
   "source": []
  },
  {
   "cell_type": "markdown",
   "metadata": {},
   "source": [
    "<img src = \"https://github.com/saeed-saffari/alzahra-workshop-spr2021/blob/main/lecture/PIC/whlie%20expr.png?raw=true\" width = \"400\">"
   ]
  },
  {
   "cell_type": "code",
   "execution_count": 15,
   "metadata": {},
   "outputs": [
    {
     "name": "stdout",
     "output_type": "stream",
     "text": [
      "n\n",
      "o\n",
      "h\n",
      "i\n",
      "n\n",
      "g\n"
     ]
    }
   ],
   "source": [
    "mystring = 'nothing'\n",
    "\n",
    "for letter in mystring:\n",
    "    if letter == 't':\n",
    "        continue\n",
    "    print(letter)"
   ]
  },
  {
   "cell_type": "code",
   "execution_count": 17,
   "metadata": {},
   "outputs": [
    {
     "name": "stdout",
     "output_type": "stream",
     "text": [
      "n\n",
      "o\n"
     ]
    }
   ],
   "source": [
    "mystring = 'nothing'\n",
    "\n",
    "for letter in mystring:\n",
    "    if letter == 't':\n",
    "        break\n",
    "    print(letter)"
   ]
  },
  {
   "cell_type": "code",
   "execution_count": 20,
   "metadata": {},
   "outputs": [
    {
     "name": "stdout",
     "output_type": "stream",
     "text": [
      "0\n",
      "1\n",
      "2\n"
     ]
    }
   ],
   "source": [
    "x = 0\n",
    "while x < 5:\n",
    "    if x == 3:\n",
    "        break\n",
    "    print(x)\n",
    "    x += 1"
   ]
  },
  {
   "cell_type": "code",
   "execution_count": 25,
   "metadata": {},
   "outputs": [
    {
     "name": "stdout",
     "output_type": "stream",
     "text": [
      "0 0\n",
      "0 1\n",
      "0 2\n",
      "0 3\n",
      "0 4\n",
      "1 0\n",
      "1 1\n",
      "1 2\n",
      "1 3\n",
      "1 4\n",
      "2 0\n",
      "2 1\n",
      "2 2\n",
      "2 3\n",
      "2 4\n",
      "3 0\n",
      "3 1\n",
      "3 2\n",
      "3 3\n",
      "3 4\n"
     ]
    }
   ],
   "source": [
    "for i in range(4):\n",
    "    for j in range(5):\n",
    "        print(i,j)"
   ]
  },
  {
   "cell_type": "code",
   "execution_count": 24,
   "metadata": {},
   "outputs": [
    {
     "name": "stdout",
     "output_type": "stream",
     "text": [
      "0 0\n",
      "0 1\n",
      "1 0\n",
      "1 1\n",
      "2 0\n",
      "2 1\n",
      "3 0\n",
      "3 1\n"
     ]
    }
   ],
   "source": [
    "for i in range(4):\n",
    "    for j in range(5):\n",
    "        if j == 2:\n",
    "            break\n",
    "        print(i,j)"
   ]
  },
  {
   "cell_type": "markdown",
   "metadata": {},
   "source": [
    "## <center> Function"
   ]
  },
  {
   "cell_type": "markdown",
   "metadata": {},
   "source": [
    "<img src = \"https://github.com/saeed-saffari/alzahra-workshop-spr2021/blob/main/lecture/PIC/python-functions.gif?raw=true\" width = 750>"
   ]
  },
  {
   "cell_type": "code",
   "execution_count": null,
   "metadata": {},
   "outputs": [],
   "source": [
    "def test_1():\n",
    "    ...\n",
    "    ...\n",
    "    ...\n",
    "    return ..."
   ]
  },
  {
   "cell_type": "code",
   "execution_count": null,
   "metadata": {},
   "outputs": [],
   "source": [
    "def test_2():\n",
    "    ...\n",
    "    ...\n",
    "    ...\n",
    "    print(...)"
   ]
  },
  {
   "cell_type": "code",
   "execution_count": null,
   "metadata": {},
   "outputs": [],
   "source": [
    "test_1()\n",
    "test_2()"
   ]
  },
  {
   "cell_type": "code",
   "execution_count": null,
   "metadata": {},
   "outputs": [],
   "source": [
    "def test_3(x,y,z):\n",
    "    ...\n",
    "    ...\n",
    "    ...\n",
    "    print(...) # return ..."
   ]
  },
  {
   "cell_type": "code",
   "execution_count": null,
   "metadata": {},
   "outputs": [],
   "source": [
    "test_3(12,14,16)"
   ]
  },
  {
   "cell_type": "code",
   "execution_count": null,
   "metadata": {},
   "outputs": [],
   "source": [
    "def test_4():\n",
    "    ...\n",
    "    ...\n",
    "    ..."
   ]
  },
  {
   "cell_type": "markdown",
   "metadata": {},
   "source": [
    "## - Example"
   ]
  },
  {
   "cell_type": "code",
   "execution_count": 26,
   "metadata": {},
   "outputs": [],
   "source": [
    "def echo(i):\n",
    "    print(i)"
   ]
  },
  {
   "cell_type": "code",
   "execution_count": 27,
   "metadata": {},
   "outputs": [
    {
     "name": "stdout",
     "output_type": "stream",
     "text": [
      "Salaaam!\n"
     ]
    }
   ],
   "source": [
    "echo('Salaaam!')"
   ]
  },
  {
   "cell_type": "code",
   "execution_count": 28,
   "metadata": {},
   "outputs": [],
   "source": [
    "x = 10"
   ]
  },
  {
   "cell_type": "code",
   "execution_count": 29,
   "metadata": {},
   "outputs": [
    {
     "name": "stdout",
     "output_type": "stream",
     "text": [
      "10\n"
     ]
    }
   ],
   "source": [
    "print(x)"
   ]
  },
  {
   "cell_type": "code",
   "execution_count": 30,
   "metadata": {},
   "outputs": [
    {
     "name": "stdout",
     "output_type": "stream",
     "text": [
      "10\n"
     ]
    }
   ],
   "source": [
    "echo(x)"
   ]
  },
  {
   "cell_type": "code",
   "execution_count": 31,
   "metadata": {},
   "outputs": [],
   "source": [
    "def mean3(x,y,z):\n",
    "    summ = x + y + z\n",
    "    ave = summ / 3\n",
    "    return ave"
   ]
  },
  {
   "cell_type": "code",
   "execution_count": 33,
   "metadata": {},
   "outputs": [],
   "source": [
    "def mean3_prime(x,y,z):\n",
    "    return (x+y+z)/3"
   ]
  },
  {
   "cell_type": "code",
   "execution_count": 34,
   "metadata": {},
   "outputs": [
    {
     "data": {
      "text/plain": [
       "27.0"
      ]
     },
     "execution_count": 34,
     "metadata": {},
     "output_type": "execute_result"
    }
   ],
   "source": [
    "mean3_prime(13,12,56)"
   ]
  },
  {
   "cell_type": "code",
   "execution_count": 39,
   "metadata": {},
   "outputs": [
    {
     "data": {
      "text/plain": [
       "7.0"
      ]
     },
     "execution_count": 39,
     "metadata": {},
     "output_type": "execute_result"
    }
   ],
   "source": [
    "mean3(12,-34,43)"
   ]
  },
  {
   "cell_type": "code",
   "execution_count": 35,
   "metadata": {},
   "outputs": [
    {
     "name": "stdout",
     "output_type": "stream",
     "text": [
      "15.333333333333334\n"
     ]
    }
   ],
   "source": [
    "m = mean3(12,-34,68)\n",
    "print(m)"
   ]
  },
  {
   "cell_type": "code",
   "execution_count": 42,
   "metadata": {},
   "outputs": [],
   "source": [
    "def hello():\n",
    "    name = input('Enter your name: ')\n",
    "    \n",
    "    if name:\n",
    "        print('Hello ' + str(name) + '!')\n",
    "    else:\n",
    "        print('Hello World')"
   ]
  },
  {
   "cell_type": "code",
   "execution_count": 43,
   "metadata": {},
   "outputs": [
    {
     "name": "stdout",
     "output_type": "stream",
     "text": [
      "Enter your name: Saeed\n",
      "Hello Saeed!\n"
     ]
    }
   ],
   "source": [
    "hello()"
   ]
  },
  {
   "cell_type": "code",
   "execution_count": 44,
   "metadata": {},
   "outputs": [
    {
     "name": "stdout",
     "output_type": "stream",
     "text": [
      "Enter your name: \n",
      "Hello World\n"
     ]
    }
   ],
   "source": [
    "hello()"
   ]
  },
  {
   "cell_type": "code",
   "execution_count": 45,
   "metadata": {},
   "outputs": [],
   "source": [
    "def price():\n",
    "    age = int(input('Enter your age: '))\n",
    "\n",
    "    if age < 4:\n",
    "        price = 0\n",
    "    elif age < 16:\n",
    "        price = 5\n",
    "    else:\n",
    "        price = 10\n",
    "    \n",
    "    print(\"Your cost is ${}.\".format(price))"
   ]
  },
  {
   "cell_type": "code",
   "execution_count": 48,
   "metadata": {},
   "outputs": [
    {
     "name": "stdout",
     "output_type": "stream",
     "text": [
      "Enter your age: 26\n",
      "Your cost is $10.\n"
     ]
    }
   ],
   "source": [
    "price()"
   ]
  },
  {
   "cell_type": "code",
   "execution_count": 49,
   "metadata": {},
   "outputs": [],
   "source": [
    "# Guess number"
   ]
  },
  {
   "cell_type": "code",
   "execution_count": 58,
   "metadata": {},
   "outputs": [
    {
     "data": {
      "text/plain": [
       "41"
      ]
     },
     "execution_count": 58,
     "metadata": {},
     "output_type": "execute_result"
    }
   ],
   "source": [
    "import random\n",
    "\n",
    "cump_num = random.randint(1,100)\n",
    "cump_num"
   ]
  },
  {
   "cell_type": "code",
   "execution_count": 59,
   "metadata": {},
   "outputs": [],
   "source": [
    "def guess_number():\n",
    "    user_num = int(input('Enter your guess numebr: '))\n",
    "    \n",
    "    \n",
    "    while user_num != cump_num:\n",
    "        if user_num > cump_num:\n",
    "            print('Enter a small one!')\n",
    "        elif user_num < cump_num:\n",
    "            print('Enter a bigger one!')\n",
    "        \n",
    "        user_num = int(input('Enter your guess numebr: '))\n",
    "        \n",
    "        \n",
    "    print('Well done!')"
   ]
  },
  {
   "cell_type": "code",
   "execution_count": 60,
   "metadata": {},
   "outputs": [
    {
     "name": "stdout",
     "output_type": "stream",
     "text": [
      "Enter your guess numebr: 70\n",
      "Enter a small one!\n",
      "Enter your guess numebr: 31\n",
      "Enter a bigger one!\n",
      "Enter your guess numebr: 41\n",
      "Well done!\n"
     ]
    }
   ],
   "source": [
    "guess_number()"
   ]
  },
  {
   "cell_type": "code",
   "execution_count": null,
   "metadata": {},
   "outputs": [],
   "source": [
    "# Contact"
   ]
  },
  {
   "cell_type": "code",
   "execution_count": 61,
   "metadata": {},
   "outputs": [
    {
     "name": "stdout",
     "output_type": "stream",
     "text": [
      "Enter your name: Saeed\n",
      "Enter your phone number: 0919919321\n",
      "Enter your email id: m.saeed1024@yahoo.com\n"
     ]
    },
    {
     "data": {
      "text/plain": [
       "{'Saeed': ('0919919321', 'm.saeed1024@yahoo.com')}"
      ]
     },
     "execution_count": 61,
     "metadata": {},
     "output_type": "execute_result"
    }
   ],
   "source": [
    "# 1\n",
    "def contact():\n",
    "    contact = {}\n",
    "    \n",
    "    name = input('Enter your name: ')\n",
    "    phone = input('Enter your phone number: ')\n",
    "    email = input('Enter your email id: ')\n",
    "    \n",
    "    contact[name] = phone, email\n",
    "    return contact\n",
    "\n",
    "contact()"
   ]
  },
  {
   "cell_type": "code",
   "execution_count": 64,
   "metadata": {},
   "outputs": [
    {
     "name": "stdout",
     "output_type": "stream",
     "text": [
      "python course\n"
     ]
    }
   ],
   "source": [
    "x = 'python course'\n",
    "print(x)"
   ]
  },
  {
   "cell_type": "code",
   "execution_count": 66,
   "metadata": {},
   "outputs": [
    {
     "data": {
      "text/plain": [
       "-1"
      ]
     },
     "execution_count": 66,
     "metadata": {},
     "output_type": "execute_result"
    }
   ],
   "source": [
    "x.find('z')"
   ]
  },
  {
   "cell_type": "code",
   "execution_count": 67,
   "metadata": {},
   "outputs": [
    {
     "name": "stdout",
     "output_type": "stream",
     "text": [
      "Enter your name: saeed\n",
      "Enter your phone number: 09199193216\n",
      "Enter your email id: asdasd\n",
      "Invalid email id!\n",
      "Enter your email id: m.saeed1024@yahoo.com\n"
     ]
    },
    {
     "data": {
      "text/plain": [
       "{'saeed': ('09199193216', 'm.saeed1024@yahoo.com')}"
      ]
     },
     "execution_count": 67,
     "metadata": {},
     "output_type": "execute_result"
    }
   ],
   "source": [
    "# 2\n",
    "def contact():\n",
    "    contact = {}\n",
    "    \n",
    "    name = input('Enter your name: ')\n",
    "    phone = input('Enter your phone number: ')\n",
    "    \n",
    "    while len(phone) != 11 or not phone.isdigit():\n",
    "        print('Invalid phone number!')\n",
    "        phone = input('Enter your phone number: ')\n",
    "        \n",
    "    email = input('Enter your email id: ')\n",
    "    while email.find('@') == -1:\n",
    "        print('Invalid email id!')\n",
    "        email = input('Enter your email id: ')\n",
    "        \n",
    "    contact[name] = phone, email\n",
    "    return contact\n",
    "\n",
    "contact()"
   ]
  },
  {
   "cell_type": "code",
   "execution_count": 1,
   "metadata": {},
   "outputs": [],
   "source": [
    "# 2\n",
    "def contact():\n",
    "    contact = {}\n",
    "    \n",
    "    while True:                                # new\n",
    "        name = input('Enter your name: ')      \n",
    "        if name == 'end':                      # new\n",
    "            break                              # new\n",
    "    \n",
    "        phone = input('Enter your phone number: ')\n",
    "        \n",
    "        while len(phone) != 11 or not phone.isdigit():\n",
    "            print('Invalid phone number!')\n",
    "            phone = input('Enter your phone number: ')\n",
    "            \n",
    "        email = input('Enter your email id: ')\n",
    "        while email.find('@') == -1:\n",
    "            print('Invalid email id!')\n",
    "            email = input('Enter your email id: ')\n",
    "            \n",
    "        contact[name] = phone, email\n",
    "    return contact\n"
   ]
  },
  {
   "cell_type": "code",
   "execution_count": 2,
   "metadata": {},
   "outputs": [
    {
     "name": "stdout",
     "output_type": "stream",
     "text": [
      "Enter your name: saeed\n",
      "Enter your phone number: 01919193216\n",
      "Enter your email id: m.saeed1024@yahoo.com\n",
      "Enter your name: javad\n",
      "Enter your phone number: 01919193212\n",
      "Enter your email id: m.saeed1024@hotmail.com\n",
      "Enter your name: end\n"
     ]
    },
    {
     "data": {
      "text/plain": [
       "{'saeed': ('01919193216', 'm.saeed1024@yahoo.com'),\n",
       " 'javad': ('01919193212', 'm.saeed1024@hotmail.com')}"
      ]
     },
     "execution_count": 2,
     "metadata": {},
     "output_type": "execute_result"
    }
   ],
   "source": [
    "contact()"
   ]
  },
  {
   "cell_type": "code",
   "execution_count": 3,
   "metadata": {},
   "outputs": [
    {
     "name": "stdout",
     "output_type": "stream",
     "text": [
      "Enter your name: saeed\n",
      "Enter your phone number: 01919193216\n",
      "Enter your email id: m.saeed1024@yahoo.com\n",
      "Enter your name: javad\n",
      "Enter your phone number: 09123246537\n",
      "Enter your email id: m.saeed.saffari@ut.ac.ir\n",
      "Enter your name: end\n"
     ]
    },
    {
     "data": {
      "text/plain": [
       "{'saeed': ('01919193216', 'm.saeed1024@yahoo.com'),\n",
       " 'javad': ('09123246537', 'm.saeed.saffari@ut.ac.ir')}"
      ]
     },
     "execution_count": 3,
     "metadata": {},
     "output_type": "execute_result"
    }
   ],
   "source": [
    "cont = contact()\n",
    "cont"
   ]
  },
  {
   "cell_type": "code",
   "execution_count": 4,
   "metadata": {},
   "outputs": [
    {
     "data": {
      "text/plain": [
       "{'saeed': ('01919193216', 'm.saeed1024@yahoo.com'),\n",
       " 'javad': ('09123246537', 'm.saeed.saffari@ut.ac.ir')}"
      ]
     },
     "execution_count": 4,
     "metadata": {},
     "output_type": "execute_result"
    }
   ],
   "source": [
    "cont"
   ]
  },
  {
   "cell_type": "code",
   "execution_count": 5,
   "metadata": {},
   "outputs": [
    {
     "data": {
      "text/plain": [
       "('09123246537', 'm.saeed.saffari@ut.ac.ir')"
      ]
     },
     "execution_count": 5,
     "metadata": {},
     "output_type": "execute_result"
    }
   ],
   "source": [
    "cont['javad']"
   ]
  },
  {
   "cell_type": "code",
   "execution_count": 12,
   "metadata": {},
   "outputs": [
    {
     "data": {
      "text/plain": [
       "'09123246537'"
      ]
     },
     "execution_count": 12,
     "metadata": {},
     "output_type": "execute_result"
    }
   ],
   "source": [
    "cont['javad'][0]"
   ]
  },
  {
   "cell_type": "code",
   "execution_count": 13,
   "metadata": {},
   "outputs": [],
   "source": [
    "x = cont['javad'][0]"
   ]
  },
  {
   "cell_type": "code",
   "execution_count": 14,
   "metadata": {},
   "outputs": [
    {
     "data": {
      "text/plain": [
       "'09123246537'"
      ]
     },
     "execution_count": 14,
     "metadata": {},
     "output_type": "execute_result"
    }
   ],
   "source": [
    "x"
   ]
  },
  {
   "cell_type": "code",
   "execution_count": 7,
   "metadata": {},
   "outputs": [
    {
     "data": {
      "text/plain": [
       "('01919193216', 'm.saeed1024@yahoo.com')"
      ]
     },
     "execution_count": 7,
     "metadata": {},
     "output_type": "execute_result"
    }
   ],
   "source": [
    "cont['saeed']"
   ]
  },
  {
   "cell_type": "code",
   "execution_count": 9,
   "metadata": {},
   "outputs": [
    {
     "name": "stdout",
     "output_type": "stream",
     "text": [
      "saeed\n",
      "javad\n"
     ]
    }
   ],
   "source": [
    "for i in cont:\n",
    "    print(i)"
   ]
  },
  {
   "cell_type": "code",
   "execution_count": 10,
   "metadata": {},
   "outputs": [
    {
     "name": "stdout",
     "output_type": "stream",
     "text": [
      "saeed\n",
      "('01919193216', 'm.saeed1024@yahoo.com')\n",
      "javad\n",
      "('09123246537', 'm.saeed.saffari@ut.ac.ir')\n"
     ]
    }
   ],
   "source": [
    "for i in cont:\n",
    "    print(i)\n",
    "    print(cont.get(i))"
   ]
  },
  {
   "cell_type": "code",
   "execution_count": null,
   "metadata": {},
   "outputs": [],
   "source": []
  },
  {
   "cell_type": "markdown",
   "metadata": {},
   "source": [
    "## . Diffrence between return and print"
   ]
  },
  {
   "cell_type": "code",
   "execution_count": 22,
   "metadata": {},
   "outputs": [
    {
     "name": "stdout",
     "output_type": "stream",
     "text": [
      "3\n",
      "-------\n",
      "3\n",
      "5\n",
      "None\n",
      "5\n",
      "*********\n",
      "3\n",
      "5\n",
      "10\n",
      "_*_*_*_*\n"
     ]
    }
   ],
   "source": [
    "def fun1(x1):\n",
    "    x1 = x1 + 2\n",
    "    print(x1)\n",
    "    \n",
    "def fun2(x1):\n",
    "    return x1 + 2\n",
    "\n",
    "x1 = 3\n",
    "\n",
    "print(x1)\n",
    "print('-------')\n",
    "\n",
    "print(x1)\n",
    "print(fun1(x1))\n",
    "fun1(x1)\n",
    "#print(fun1(x1)*2)\n",
    "print('*********')\n",
    "\n",
    "print(x1)\n",
    "print(fun2(x1))\n",
    "print(fun2(x1)*2)\n",
    "\n",
    "print('_*_*_*_*')"
   ]
  },
  {
   "cell_type": "code",
   "execution_count": null,
   "metadata": {},
   "outputs": [],
   "source": []
  },
  {
   "cell_type": "markdown",
   "metadata": {},
   "source": [
    "## . lambda"
   ]
  },
  {
   "cell_type": "code",
   "execution_count": 23,
   "metadata": {},
   "outputs": [],
   "source": [
    "m = lambda x , y , z : (x + y + z) / 3"
   ]
  },
  {
   "cell_type": "code",
   "execution_count": 25,
   "metadata": {},
   "outputs": [
    {
     "data": {
      "text/plain": [
       "-3.3333333333333335"
      ]
     },
     "execution_count": 25,
     "metadata": {},
     "output_type": "execute_result"
    }
   ],
   "source": [
    "m(12,43,-65)"
   ]
  },
  {
   "cell_type": "code",
   "execution_count": 28,
   "metadata": {},
   "outputs": [
    {
     "data": {
      "text/plain": [
       "0.5"
      ]
     },
     "execution_count": 28,
     "metadata": {},
     "output_type": "execute_result"
    }
   ],
   "source": [
    "import numpy as np\n",
    "round(np.sin(np.pi / 6),2)"
   ]
  },
  {
   "cell_type": "code",
   "execution_count": 35,
   "metadata": {},
   "outputs": [
    {
     "data": {
      "text/plain": [
       "12.333333333333334"
      ]
     },
     "execution_count": 35,
     "metadata": {},
     "output_type": "execute_result"
    }
   ],
   "source": [
    "def mean3(x, y, z=12):\n",
    "    return (x+y+z) / 3\n",
    "\n",
    "mean3(11,14)"
   ]
  },
  {
   "cell_type": "code",
   "execution_count": null,
   "metadata": {},
   "outputs": [],
   "source": []
  },
  {
   "cell_type": "code",
   "execution_count": null,
   "metadata": {},
   "outputs": [],
   "source": []
  }
 ],
 "metadata": {
  "kernelspec": {
   "display_name": "Python 3",
   "language": "python",
   "name": "python3"
  },
  "language_info": {
   "codemirror_mode": {
    "name": "ipython",
    "version": 3
   },
   "file_extension": ".py",
   "mimetype": "text/x-python",
   "name": "python",
   "nbconvert_exporter": "python",
   "pygments_lexer": "ipython3",
   "version": "3.8.8"
  }
 },
 "nbformat": 4,
 "nbformat_minor": 4
}
